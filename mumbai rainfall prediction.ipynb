{
 "cells": [
  {
   "cell_type": "code",
   "execution_count": 13,
   "id": "ecdf4283-2836-4e59-a92f-ad736b469db7",
   "metadata": {},
   "outputs": [],
   "source": [
    "import pandas as pd\n",
    "import numpy as np\n",
    "import matplotlib.pyplot as plt\n",
    "import seaborn as sns"
   ]
  },
  {
   "cell_type": "code",
   "execution_count": 14,
   "id": "af5073b2-47f1-4ca7-94fd-b9ff0e5f44a8",
   "metadata": {},
   "outputs": [
    {
     "data": {
      "text/html": [
       "<div>\n",
       "<style scoped>\n",
       "    .dataframe tbody tr th:only-of-type {\n",
       "        vertical-align: middle;\n",
       "    }\n",
       "\n",
       "    .dataframe tbody tr th {\n",
       "        vertical-align: top;\n",
       "    }\n",
       "\n",
       "    .dataframe thead th {\n",
       "        text-align: right;\n",
       "    }\n",
       "</style>\n",
       "<table border=\"1\" class=\"dataframe\">\n",
       "  <thead>\n",
       "    <tr style=\"text-align: right;\">\n",
       "      <th></th>\n",
       "      <th>Year</th>\n",
       "      <th>Jan</th>\n",
       "      <th>Feb</th>\n",
       "      <th>Mar</th>\n",
       "      <th>April</th>\n",
       "      <th>May</th>\n",
       "      <th>June</th>\n",
       "      <th>July</th>\n",
       "      <th>Aug</th>\n",
       "      <th>Sept</th>\n",
       "      <th>Oct</th>\n",
       "      <th>Nov</th>\n",
       "      <th>Dec</th>\n",
       "      <th>Total</th>\n",
       "    </tr>\n",
       "  </thead>\n",
       "  <tbody>\n",
       "    <tr>\n",
       "      <th>0</th>\n",
       "      <td>1901</td>\n",
       "      <td>13.116602</td>\n",
       "      <td>0.000000</td>\n",
       "      <td>0.000000</td>\n",
       "      <td>3.949669</td>\n",
       "      <td>17.139791</td>\n",
       "      <td>640.714036</td>\n",
       "      <td>888.369692</td>\n",
       "      <td>545.045796</td>\n",
       "      <td>64.271513</td>\n",
       "      <td>9.871696</td>\n",
       "      <td>0.000000</td>\n",
       "      <td>0.000000</td>\n",
       "      <td>2182.478796</td>\n",
       "    </tr>\n",
       "    <tr>\n",
       "      <th>1</th>\n",
       "      <td>1902</td>\n",
       "      <td>0.000000</td>\n",
       "      <td>0.000000</td>\n",
       "      <td>0.000000</td>\n",
       "      <td>0.000000</td>\n",
       "      <td>0.355001</td>\n",
       "      <td>247.998782</td>\n",
       "      <td>408.433730</td>\n",
       "      <td>566.595863</td>\n",
       "      <td>688.913455</td>\n",
       "      <td>28.654092</td>\n",
       "      <td>0.488864</td>\n",
       "      <td>19.526547</td>\n",
       "      <td>1960.966334</td>\n",
       "    </tr>\n",
       "    <tr>\n",
       "      <th>2</th>\n",
       "      <td>1903</td>\n",
       "      <td>0.000000</td>\n",
       "      <td>0.000000</td>\n",
       "      <td>0.844034</td>\n",
       "      <td>0.000000</td>\n",
       "      <td>220.568740</td>\n",
       "      <td>370.849048</td>\n",
       "      <td>902.447896</td>\n",
       "      <td>602.420828</td>\n",
       "      <td>264.589816</td>\n",
       "      <td>157.892877</td>\n",
       "      <td>0.000000</td>\n",
       "      <td>0.000000</td>\n",
       "      <td>2519.613240</td>\n",
       "    </tr>\n",
       "    <tr>\n",
       "      <th>3</th>\n",
       "      <td>1904</td>\n",
       "      <td>0.000000</td>\n",
       "      <td>0.000000</td>\n",
       "      <td>11.381769</td>\n",
       "      <td>0.000000</td>\n",
       "      <td>0.000000</td>\n",
       "      <td>723.081969</td>\n",
       "      <td>390.886799</td>\n",
       "      <td>191.581927</td>\n",
       "      <td>85.704754</td>\n",
       "      <td>38.679948</td>\n",
       "      <td>0.000000</td>\n",
       "      <td>0.000000</td>\n",
       "      <td>1441.317168</td>\n",
       "    </tr>\n",
       "    <tr>\n",
       "      <th>4</th>\n",
       "      <td>1905</td>\n",
       "      <td>0.662561</td>\n",
       "      <td>1.713452</td>\n",
       "      <td>0.000000</td>\n",
       "      <td>0.000000</td>\n",
       "      <td>0.000000</td>\n",
       "      <td>123.870892</td>\n",
       "      <td>581.827975</td>\n",
       "      <td>167.382149</td>\n",
       "      <td>172.297723</td>\n",
       "      <td>7.365924</td>\n",
       "      <td>24.903575</td>\n",
       "      <td>0.000000</td>\n",
       "      <td>1080.024250</td>\n",
       "    </tr>\n",
       "  </tbody>\n",
       "</table>\n",
       "</div>"
      ],
      "text/plain": [
       "   Year        Jan       Feb        Mar     April         May        June  \\\n",
       "0  1901  13.116602  0.000000   0.000000  3.949669   17.139791  640.714036   \n",
       "1  1902   0.000000  0.000000   0.000000  0.000000    0.355001  247.998782   \n",
       "2  1903   0.000000  0.000000   0.844034  0.000000  220.568740  370.849048   \n",
       "3  1904   0.000000  0.000000  11.381769  0.000000    0.000000  723.081969   \n",
       "4  1905   0.662561  1.713452   0.000000  0.000000    0.000000  123.870892   \n",
       "\n",
       "         July         Aug        Sept         Oct        Nov        Dec  \\\n",
       "0  888.369692  545.045796   64.271513    9.871696   0.000000   0.000000   \n",
       "1  408.433730  566.595863  688.913455   28.654092   0.488864  19.526547   \n",
       "2  902.447896  602.420828  264.589816  157.892877   0.000000   0.000000   \n",
       "3  390.886799  191.581927   85.704754   38.679948   0.000000   0.000000   \n",
       "4  581.827975  167.382149  172.297723    7.365924  24.903575   0.000000   \n",
       "\n",
       "         Total  \n",
       "0  2182.478796  \n",
       "1  1960.966334  \n",
       "2  2519.613240  \n",
       "3  1441.317168  \n",
       "4  1080.024250  "
      ]
     },
     "execution_count": 14,
     "metadata": {},
     "output_type": "execute_result"
    }
   ],
   "source": [
    "rainfall = pd.read_csv(r\"D:\\mumbai-monthly-rains.csv\")\n",
    "rainfall.head()"
   ]
  },
  {
   "cell_type": "code",
   "execution_count": 15,
   "id": "1141bdea-e97a-46d6-893d-6ec7fa1521ca",
   "metadata": {},
   "outputs": [
    {
     "data": {
      "text/html": [
       "<div>\n",
       "<style scoped>\n",
       "    .dataframe tbody tr th:only-of-type {\n",
       "        vertical-align: middle;\n",
       "    }\n",
       "\n",
       "    .dataframe tbody tr th {\n",
       "        vertical-align: top;\n",
       "    }\n",
       "\n",
       "    .dataframe thead th {\n",
       "        text-align: right;\n",
       "    }\n",
       "</style>\n",
       "<table border=\"1\" class=\"dataframe\">\n",
       "  <thead>\n",
       "    <tr style=\"text-align: right;\">\n",
       "      <th></th>\n",
       "      <th>Year</th>\n",
       "      <th>Jan</th>\n",
       "      <th>Feb</th>\n",
       "      <th>Mar</th>\n",
       "      <th>April</th>\n",
       "      <th>May</th>\n",
       "      <th>June</th>\n",
       "      <th>July</th>\n",
       "      <th>Aug</th>\n",
       "      <th>Sept</th>\n",
       "      <th>Oct</th>\n",
       "      <th>Nov</th>\n",
       "      <th>Dec</th>\n",
       "      <th>Total</th>\n",
       "    </tr>\n",
       "  </thead>\n",
       "  <tbody>\n",
       "    <tr>\n",
       "      <th>count</th>\n",
       "      <td>121.000000</td>\n",
       "      <td>121.000000</td>\n",
       "      <td>121.000000</td>\n",
       "      <td>121.000000</td>\n",
       "      <td>121.000000</td>\n",
       "      <td>121.000000</td>\n",
       "      <td>121.000000</td>\n",
       "      <td>121.000000</td>\n",
       "      <td>121.000000</td>\n",
       "      <td>121.000000</td>\n",
       "      <td>121.000000</td>\n",
       "      <td>121.000000</td>\n",
       "      <td>121.000000</td>\n",
       "      <td>121.000000</td>\n",
       "    </tr>\n",
       "    <tr>\n",
       "      <th>mean</th>\n",
       "      <td>1961.000000</td>\n",
       "      <td>1.567235</td>\n",
       "      <td>0.929358</td>\n",
       "      <td>0.869231</td>\n",
       "      <td>1.428458</td>\n",
       "      <td>18.183632</td>\n",
       "      <td>517.854402</td>\n",
       "      <td>757.407412</td>\n",
       "      <td>465.600818</td>\n",
       "      <td>312.885747</td>\n",
       "      <td>73.983526</td>\n",
       "      <td>13.849462</td>\n",
       "      <td>3.556428</td>\n",
       "      <td>2168.115709</td>\n",
       "    </tr>\n",
       "    <tr>\n",
       "      <th>std</th>\n",
       "      <td>35.073732</td>\n",
       "      <td>6.462247</td>\n",
       "      <td>3.077050</td>\n",
       "      <td>2.890032</td>\n",
       "      <td>7.371307</td>\n",
       "      <td>48.628812</td>\n",
       "      <td>251.067016</td>\n",
       "      <td>285.836188</td>\n",
       "      <td>249.072915</td>\n",
       "      <td>205.135368</td>\n",
       "      <td>96.686113</td>\n",
       "      <td>29.689941</td>\n",
       "      <td>12.342390</td>\n",
       "      <td>533.263926</td>\n",
       "    </tr>\n",
       "    <tr>\n",
       "      <th>min</th>\n",
       "      <td>1901.000000</td>\n",
       "      <td>0.000000</td>\n",
       "      <td>0.000000</td>\n",
       "      <td>0.000000</td>\n",
       "      <td>0.000000</td>\n",
       "      <td>0.000000</td>\n",
       "      <td>61.058662</td>\n",
       "      <td>103.209194</td>\n",
       "      <td>87.493370</td>\n",
       "      <td>36.313545</td>\n",
       "      <td>0.000000</td>\n",
       "      <td>0.000000</td>\n",
       "      <td>0.000000</td>\n",
       "      <td>1058.840525</td>\n",
       "    </tr>\n",
       "    <tr>\n",
       "      <th>25%</th>\n",
       "      <td>1931.000000</td>\n",
       "      <td>0.000000</td>\n",
       "      <td>0.000000</td>\n",
       "      <td>0.000000</td>\n",
       "      <td>0.000000</td>\n",
       "      <td>0.000000</td>\n",
       "      <td>324.094617</td>\n",
       "      <td>540.745923</td>\n",
       "      <td>268.002392</td>\n",
       "      <td>149.584208</td>\n",
       "      <td>9.871696</td>\n",
       "      <td>0.000000</td>\n",
       "      <td>0.000000</td>\n",
       "      <td>1834.996957</td>\n",
       "    </tr>\n",
       "    <tr>\n",
       "      <th>50%</th>\n",
       "      <td>1961.000000</td>\n",
       "      <td>0.000000</td>\n",
       "      <td>0.000000</td>\n",
       "      <td>0.000000</td>\n",
       "      <td>0.000000</td>\n",
       "      <td>0.355001</td>\n",
       "      <td>482.449872</td>\n",
       "      <td>788.403637</td>\n",
       "      <td>445.870342</td>\n",
       "      <td>269.276549</td>\n",
       "      <td>43.479170</td>\n",
       "      <td>1.066086</td>\n",
       "      <td>0.000000</td>\n",
       "      <td>2126.054987</td>\n",
       "    </tr>\n",
       "    <tr>\n",
       "      <th>75%</th>\n",
       "      <td>1991.000000</td>\n",
       "      <td>0.000000</td>\n",
       "      <td>0.152298</td>\n",
       "      <td>0.000000</td>\n",
       "      <td>0.194165</td>\n",
       "      <td>4.208322</td>\n",
       "      <td>678.040770</td>\n",
       "      <td>942.616099</td>\n",
       "      <td>604.372615</td>\n",
       "      <td>398.645218</td>\n",
       "      <td>98.235161</td>\n",
       "      <td>9.373154</td>\n",
       "      <td>0.176149</td>\n",
       "      <td>2478.558089</td>\n",
       "    </tr>\n",
       "    <tr>\n",
       "      <th>max</th>\n",
       "      <td>2021.000000</td>\n",
       "      <td>51.348290</td>\n",
       "      <td>21.107118</td>\n",
       "      <td>18.252996</td>\n",
       "      <td>75.541818</td>\n",
       "      <td>234.392757</td>\n",
       "      <td>1219.518576</td>\n",
       "      <td>1358.833554</td>\n",
       "      <td>1200.956558</td>\n",
       "      <td>987.796660</td>\n",
       "      <td>552.902707</td>\n",
       "      <td>164.348387</td>\n",
       "      <td>90.044602</td>\n",
       "      <td>3563.259531</td>\n",
       "    </tr>\n",
       "  </tbody>\n",
       "</table>\n",
       "</div>"
      ],
      "text/plain": [
       "              Year         Jan         Feb         Mar       April  \\\n",
       "count   121.000000  121.000000  121.000000  121.000000  121.000000   \n",
       "mean   1961.000000    1.567235    0.929358    0.869231    1.428458   \n",
       "std      35.073732    6.462247    3.077050    2.890032    7.371307   \n",
       "min    1901.000000    0.000000    0.000000    0.000000    0.000000   \n",
       "25%    1931.000000    0.000000    0.000000    0.000000    0.000000   \n",
       "50%    1961.000000    0.000000    0.000000    0.000000    0.000000   \n",
       "75%    1991.000000    0.000000    0.152298    0.000000    0.194165   \n",
       "max    2021.000000   51.348290   21.107118   18.252996   75.541818   \n",
       "\n",
       "              May         June         July          Aug        Sept  \\\n",
       "count  121.000000   121.000000   121.000000   121.000000  121.000000   \n",
       "mean    18.183632   517.854402   757.407412   465.600818  312.885747   \n",
       "std     48.628812   251.067016   285.836188   249.072915  205.135368   \n",
       "min      0.000000    61.058662   103.209194    87.493370   36.313545   \n",
       "25%      0.000000   324.094617   540.745923   268.002392  149.584208   \n",
       "50%      0.355001   482.449872   788.403637   445.870342  269.276549   \n",
       "75%      4.208322   678.040770   942.616099   604.372615  398.645218   \n",
       "max    234.392757  1219.518576  1358.833554  1200.956558  987.796660   \n",
       "\n",
       "              Oct         Nov         Dec        Total  \n",
       "count  121.000000  121.000000  121.000000   121.000000  \n",
       "mean    73.983526   13.849462    3.556428  2168.115709  \n",
       "std     96.686113   29.689941   12.342390   533.263926  \n",
       "min      0.000000    0.000000    0.000000  1058.840525  \n",
       "25%      9.871696    0.000000    0.000000  1834.996957  \n",
       "50%     43.479170    1.066086    0.000000  2126.054987  \n",
       "75%     98.235161    9.373154    0.176149  2478.558089  \n",
       "max    552.902707  164.348387   90.044602  3563.259531  "
      ]
     },
     "execution_count": 15,
     "metadata": {},
     "output_type": "execute_result"
    }
   ],
   "source": [
    "rainfall.describe()"
   ]
  },
  {
   "cell_type": "code",
   "execution_count": 16,
   "id": "637ce85b-f900-4127-8fe5-1558195cc18e",
   "metadata": {},
   "outputs": [
    {
     "name": "stdout",
     "output_type": "stream",
     "text": [
      "<class 'pandas.core.frame.DataFrame'>\n",
      "RangeIndex: 121 entries, 0 to 120\n",
      "Data columns (total 14 columns):\n",
      " #   Column  Non-Null Count  Dtype  \n",
      "---  ------  --------------  -----  \n",
      " 0   Year    121 non-null    int64  \n",
      " 1   Jan     121 non-null    float64\n",
      " 2   Feb     121 non-null    float64\n",
      " 3   Mar     121 non-null    float64\n",
      " 4   April   121 non-null    float64\n",
      " 5   May     121 non-null    float64\n",
      " 6   June    121 non-null    float64\n",
      " 7   July    121 non-null    float64\n",
      " 8   Aug     121 non-null    float64\n",
      " 9   Sept    121 non-null    float64\n",
      " 10  Oct     121 non-null    float64\n",
      " 11  Nov     121 non-null    float64\n",
      " 12  Dec     121 non-null    float64\n",
      " 13  Total   121 non-null    float64\n",
      "dtypes: float64(13), int64(1)\n",
      "memory usage: 13.4 KB\n"
     ]
    }
   ],
   "source": [
    "rainfall.info()"
   ]
  },
  {
   "cell_type": "code",
   "execution_count": 17,
   "id": "40890d6b-3ff3-47ed-bff4-3b260f3ed6f4",
   "metadata": {},
   "outputs": [
    {
     "data": {
      "text/plain": [
       "Year     0\n",
       "Jan      0\n",
       "Feb      0\n",
       "Mar      0\n",
       "April    0\n",
       "May      0\n",
       "June     0\n",
       "July     0\n",
       "Aug      0\n",
       "Sept     0\n",
       "Oct      0\n",
       "Nov      0\n",
       "Dec      0\n",
       "Total    0\n",
       "dtype: int64"
      ]
     },
     "execution_count": 17,
     "metadata": {},
     "output_type": "execute_result"
    }
   ],
   "source": [
    "rainfall.isnull().sum()"
   ]
  },
  {
   "cell_type": "code",
   "execution_count": 18,
   "id": "c832897b-90dc-44d2-b562-90fce775a4b1",
   "metadata": {},
   "outputs": [],
   "source": [
    "rainfall_copy = rainfall.copy()"
   ]
  },
  {
   "cell_type": "code",
   "execution_count": 19,
   "id": "51f21b8e-a9b7-4fd6-aed8-129016a0ef05",
   "metadata": {},
   "outputs": [],
   "source": [
    "rainfall_month = rainfall_copy.drop([\"Year\",\"Total\"],axis=1,inplace=True)"
   ]
  },
  {
   "cell_type": "markdown",
   "id": "494acb9e-201d-42a0-8ab0-a2526e8df81d",
   "metadata": {},
   "source": [
    "## average precipitation according to months"
   ]
  },
  {
   "cell_type": "code",
   "execution_count": 21,
   "id": "05cd1e14-3e1a-4a3f-baca-cbf73b907bac",
   "metadata": {},
   "outputs": [
    {
     "data": {
      "image/png": "[encoded data removed]",
      "text/plain": [
       "<Figure size 640x480 with 1 Axes>"
      ]
     },
     "metadata": {},
     "output_type": "display_data"
    }
   ],
   "source": [
    "sns.barplot(x=rainfall_month,y=rainfall_month,data=rainfall_copy);\n",
    "plt.xticks(rotation=80)\n",
    "plt.show()"
   ]
  },
  {
   "cell_type": "markdown",
   "id": "8012ba4c-7f94-443d-bb15-28201658a2a0",
   "metadata": {},
   "source": [
    "## total amount of precipitation by years"
   ]
  },
  {
   "cell_type": "code",
   "execution_count": null,
   "id": "73d2689d-e7b7-4063-b2a7-1f7338198bf5",
   "metadata": {},
   "outputs": [],
   "source": []
  },
  {
   "cell_type": "code",
   "execution_count": 25,
   "id": "a5bc6d46-45b5-4dd8-b977-3d3d3297fc2e",
   "metadata": {},
   "outputs": [
    {
     "data": {
      "image/png": "[encoded data removed]",
      "text/plain": [
       "<Figure size 500x500 with 1 Axes>"
      ]
     },
     "metadata": {},
     "output_type": "display_data"
    }
   ],
   "source": [
    "sns.lmplot(x=\"Year\",y=\"Total\",data=rainfall);\n",
    "plt.xticks(rotation=80)\n",
    "plt.show()"
   ]
  },
  {
   "cell_type": "markdown",
   "id": "8bffb082-f192-4f08-bfe5-4289f6b398d6",
   "metadata": {},
   "source": [
    "### Polinomial Linear Regression"
   ]
  },
  {
   "cell_type": "code",
   "execution_count": 26,
   "id": "7a6ea6d1-b8d3-48cf-ad5c-c94645b58cc1",
   "metadata": {},
   "outputs": [],
   "source": [
    "from sklearn.linear_model import LinearRegression\n",
    "from sklearn.preprocessing import PolynomialFeatures"
   ]
  },
  {
   "cell_type": "code",
   "execution_count": 27,
   "id": "4409ca43-e5b0-407e-857d-50df4e51d673",
   "metadata": {},
   "outputs": [],
   "source": [
    "y = rainfall.Total.values.reshape(-1, 1)\n",
    "x = rainfall.Year.values.reshape(-1, 1)"
   ]
  },
  {
   "cell_type": "code",
   "execution_count": 28,
   "id": "508c67f6-f074-45cd-a7a6-a7a3a998239a",
   "metadata": {},
   "outputs": [],
   "source": [
    "poly_reg = PolynomialFeatures(degree=50)\n",
    "x_polinomial = poly_reg.fit_transform(x)"
   ]
  },
  {
   "cell_type": "code",
   "execution_count": 29,
   "id": "11b13a36-8fb9-4998-bd8d-d77aa58e1ce4",
   "metadata": {},
   "outputs": [
    {
     "data": {
      "text/html": [
       "<style>#sk-container-id-1 {color: black;background-color: white;}#sk-container-id-1 pre{padding: 0;}#sk-container-id-1 div.sk-toggleable {background-color: white;}#sk-container-id-1 label.sk-toggleable__label {cursor: pointer;display: block;width: 100%;margin-bottom: 0;padding: 0.3em;box-sizing: border-box;text-align: center;}#sk-container-id-1 label.sk-toggleable__label-arrow:before {content: \"▸\";float: left;margin-right: 0.25em;color: #696969;}#sk-container-id-1 label.sk-toggleable__label-arrow:hover:before {color: black;}#sk-container-id-1 div.sk-estimator:hover label.sk-toggleable__label-arrow:before {color: black;}#sk-container-id-1 div.sk-toggleable__content {max-height: 0;max-width: 0;overflow: hidden;text-align: left;background-color: #f0f8ff;}#sk-container-id-1 div.sk-toggleable__content pre {margin: 0.2em;color: black;border-radius: 0.25em;background-color: #f0f8ff;}#sk-container-id-1 input.sk-toggleable__control:checked~div.sk-toggleable__content {max-height: 200px;max-width: 100%;overflow: auto;}#sk-container-id-1 input.sk-toggleable__control:checked~label.sk-toggleable__label-arrow:before {content: \"▾\";}#sk-container-id-1 div.sk-estimator input.sk-toggleable__control:checked~label.sk-toggleable__label {background-color: #d4ebff;}#sk-container-id-1 div.sk-label input.sk-toggleable__control:checked~label.sk-toggleable__label {background-color: #d4ebff;}#sk-container-id-1 input.sk-hidden--visually {border: 0;clip: rect(1px 1px 1px 1px);clip: rect(1px, 1px, 1px, 1px);height: 1px;margin: -1px;overflow: hidden;padding: 0;position: absolute;width: 1px;}#sk-container-id-1 div.sk-estimator {font-family: monospace;background-color: #f0f8ff;border: 1px dotted black;border-radius: 0.25em;box-sizing: border-box;margin-bottom: 0.5em;}#sk-container-id-1 div.sk-estimator:hover {background-color: #d4ebff;}#sk-container-id-1 div.sk-parallel-item::after {content: \"\";width: 100%;border-bottom: 1px solid gray;flex-grow: 1;}#sk-container-id-1 div.sk-label:hover label.sk-toggleable__label {background-color: #d4ebff;}#sk-container-id-1 div.sk-serial::before {content: \"\";position: absolute;border-left: 1px solid gray;box-sizing: border-box;top: 0;bottom: 0;left: 50%;z-index: 0;}#sk-container-id-1 div.sk-serial {display: flex;flex-direction: column;align-items: center;background-color: white;padding-right: 0.2em;padding-left: 0.2em;position: relative;}#sk-container-id-1 div.sk-item {position: relative;z-index: 1;}#sk-container-id-1 div.sk-parallel {display: flex;align-items: stretch;justify-content: center;background-color: white;position: relative;}#sk-container-id-1 div.sk-item::before, #sk-container-id-1 div.sk-parallel-item::before {content: \"\";position: absolute;border-left: 1px solid gray;box-sizing: border-box;top: 0;bottom: 0;left: 50%;z-index: -1;}#sk-container-id-1 div.sk-parallel-item {display: flex;flex-direction: column;z-index: 1;position: relative;background-color: white;}#sk-container-id-1 div.sk-parallel-item:first-child::after {align-self: flex-end;width: 50%;}#sk-container-id-1 div.sk-parallel-item:last-child::after {align-self: flex-start;width: 50%;}#sk-container-id-1 div.sk-parallel-item:only-child::after {width: 0;}#sk-container-id-1 div.sk-dashed-wrapped {border: 1px dashed gray;margin: 0 0.4em 0.5em 0.4em;box-sizing: border-box;padding-bottom: 0.4em;background-color: white;}#sk-container-id-1 div.sk-label label {font-family: monospace;font-weight: bold;display: inline-block;line-height: 1.2em;}#sk-container-id-1 div.sk-label-container {text-align: center;}#sk-container-id-1 div.sk-container {/* jupyter's `normalize.less` sets `[hidden] { display: none; }` but bootstrap.min.css set `[hidden] { display: none !important; }` so we also need the `!important` here to be able to override the default hidden behavior on the sphinx rendered scikit-learn.org. See: https://github.com/scikit-learn/scikit-learn/issues/21755 */display: inline-block !important;position: relative;}#sk-container-id-1 div.sk-text-repr-fallback {display: none;}</style><div id=\"sk-container-id-1\" class=\"sk-top-container\"><div class=\"sk-text-repr-fallback\"><pre>LinearRegression()</pre><b>In a Jupyter environment, please rerun this cell to show the HTML representation or trust the notebook. <br />On GitHub, the HTML representation is unable to render, please try loading this page with nbviewer.org.</b></div><div class=\"sk-container\" hidden><div class=\"sk-item\"><div class=\"sk-estimator sk-toggleable\"><input class=\"sk-toggleable__control sk-hidden--visually\" id=\"sk-estimator-id-1\" type=\"checkbox\" checked><label for=\"sk-estimator-id-1\" class=\"sk-toggleable__label sk-toggleable__label-arrow\">LinearRegression</label><div class=\"sk-toggleable__content\"><pre>LinearRegression()</pre></div></div></div></div></div>"
      ],
      "text/plain": [
       "LinearRegression()"
      ]
     },
     "execution_count": 29,
     "metadata": {},
     "output_type": "execute_result"
    }
   ],
   "source": [
    "lr2 = LinearRegression()\n",
    "lr2.fit(x_polinomial, y)"
   ]
  },
  {
   "cell_type": "code",
   "execution_count": 30,
   "id": "ce7f1555-3e61-46b5-9e17-a4db5d273e1d",
   "metadata": {},
   "outputs": [],
   "source": [
    "Predict_Array = np.array([2022,2023,2024,2025,2026,2027,2028,2029,2030]).reshape(-1,1)\n",
    "Predict_Array_poly = poly_reg.fit_transform(Predict_Array)\n",
    "y_head2 = lr2.predict(Predict_Array_poly)"
   ]
  },
  {
   "cell_type": "code",
   "execution_count": 31,
   "id": "523dc1c4-f70c-49b2-a602-8710b05cf588",
   "metadata": {},
   "outputs": [
    {
     "data": {
      "image/png": "[encoded data removed]",
      "text/plain": [
       "<Figure size 640x480 with 1 Axes>"
      ]
     },
     "metadata": {},
     "output_type": "display_data"
    }
   ],
   "source": [
    "plt.scatter(x, y, color=\"blue\", label=\"Actual data\")\n",
    "plt.plot(Predict_Array, y_head2, color=\"g\", label=\"Polynomial Prediction\")\n",
    "plt.xlabel(\"Year\")\n",
    "plt.ylabel(\"Total\")\n",
    "plt.legend()\n",
    "plt.show()"
   ]
  },
  {
   "cell_type": "markdown",
   "id": "6324578c-ac80-4f1c-bf88-6401ef18fead",
   "metadata": {},
   "source": [
    "## Random Forest Regression"
   ]
  },
  {
   "cell_type": "code",
   "execution_count": 57,
   "id": "2d2a419c-c298-4037-8409-b6c7bf4ecba0",
   "metadata": {},
   "outputs": [],
   "source": [
    "import warnings\n",
    "warnings.filterwarnings('ignore')\n",
    "from sklearn.ensemble import RandomForestRegressor\n",
    "\n",
    "rf = RandomForestRegressor(n_estimators=400, random_state=42) # 100 tane tree kullandık\n",
    "rf.fit(x,y)\n",
    "y_head = rf.predict(x)"
   ]
  },
  {
   "cell_type": "code",
   "execution_count": 58,
   "id": "b47ef382-00df-4d5d-9e92-1366f11e2a86",
   "metadata": {},
   "outputs": [
    {
     "name": "stdout",
     "output_type": "stream",
     "text": [
      "Random Forest Regression Score :  0.8232395790177651\n"
     ]
    }
   ],
   "source": [
    "from sklearn.metrics import r2_score\n",
    "\n",
    "print(\"Random Forest Regression Score : \", r2_score(y,y_head))"
   ]
  },
  {
   "cell_type": "code",
   "execution_count": 61,
   "id": "63b0b2e8-b07b-4199-9d67-ae6d98a47276",
   "metadata": {},
   "outputs": [
    {
     "name": "stdout",
     "output_type": "stream",
     "text": [
      "Accuracy of the model is  82.32 %\n"
     ]
    }
   ],
   "source": [
    "print('Accuracy of the model is ', np.round((r2_score(y,y_head))*100,2),'%' )"
   ]
  },
  {
   "cell_type": "code",
   "execution_count": null,
   "id": "f458167c-a37f-4d3f-9f3b-db45e57fbb25",
   "metadata": {},
   "outputs": [],
   "source": []
  }
 ],
 "metadata": {
  "kernelspec": {
   "display_name": "Python 3 (ipykernel)",
   "language": "python",
   "name": "python3"
  },
  "language_info": {
   "codemirror_mode": {
    "name": "ipython",
    "version": 3
   },
   "file_extension": ".py",
   "mimetype": "text/x-python",
   "name": "python",
   "nbconvert_exporter": "python",
   "pygments_lexer": "ipython3",
   "version": "3.11.7"
  }
 },
 "nbformat": 4,
 "nbformat_minor": 5
}
